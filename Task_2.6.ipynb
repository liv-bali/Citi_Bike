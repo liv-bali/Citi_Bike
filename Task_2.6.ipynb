{
 "cells": [
  {
   "cell_type": "markdown",
   "id": "30504253-7bce-4c38-9bf8-ed529af149db",
   "metadata": {},
   "source": [
    "## Building dashboard with streamlit"
   ]
  },
  {
   "cell_type": "code",
   "execution_count": null,
   "id": "4ebfd26e-1a46-4559-9149-435af2fb7762",
   "metadata": {},
   "outputs": [],
   "source": [
    "import streamlit as st\n",
    "import pandas as pd\n",
    "import numpy as np\n",
    "import plotly.express as px\n",
    "from plotly.subplots import make_subplots\n",
    "import plotly.graph_objects as go\n",
    "import matplotlib.pyplot as plt\n",
    "from datetime import datetime as dt\n",
    "from streamlit_keplergl import keplergl_static"
   ]
  },
  {
   "cell_type": "markdown",
   "id": "6b9ede32-8109-4921-99ef-0d88b878cb00",
   "metadata": {},
   "source": [
    "Wrangle data"
   ]
  },
  {
   "cell_type": "code",
   "execution_count": null,
   "id": "ac9a52cd-5b54-452e-a932-ae3576ebf013",
   "metadata": {},
   "outputs": [],
   "source": [
    "df = pd.read_csv('new_york_data_1.csv', index_col = 0)"
   ]
  },
  {
   "cell_type": "code",
   "execution_count": null,
   "id": "ae5c2482-4490-48e7-8ed3-00f543e29f3b",
   "metadata": {},
   "outputs": [],
   "source": [
    "df.dtypes"
   ]
  },
  {
   "cell_type": "code",
   "execution_count": null,
   "id": "ee30d947-e7c0-4292-b94e-e4b963d482da",
   "metadata": {},
   "outputs": [],
   "source": [
    "# Create a month column \n",
    "\n",
    "df['date'] = pd.to_datetime(df['date'], format = '%Y-%m-%d')\n",
    "df['month'] = df['date'].dt.month\n",
    "df['month'] = df['month'].astype('int')"
   ]
  },
  {
   "cell_type": "code",
   "execution_count": null,
   "id": "b85a03c9-da57-4a00-b2e5-95f34c907a70",
   "metadata": {},
   "outputs": [],
   "source": [
    "# Create the season column\n",
    "\n",
    "df['season'] = [\n",
    "\"winter\" if (month == 12 or 1 <= month <= 4)\n",
    "    else \"spring\" if (4 < month <= 5)\n",
    "    else \"summer\" if (6 <= month <= 9)\n",
    "    else \"fall\"\n",
    "for month in df['month']\n",
    "    ]"
   ]
  },
  {
   "cell_type": "code",
   "execution_count": null,
   "id": "acc89ea0-e155-4730-9a78-415b8c1e1607",
   "metadata": {},
   "outputs": [],
   "source": [
    "df.shape"
   ]
  },
  {
   "cell_type": "code",
   "execution_count": null,
   "id": "b4bf173f-6606-4aff-b5f7-31541322083d",
   "metadata": {},
   "outputs": [],
   "source": [
    "df.columns"
   ]
  },
  {
   "cell_type": "markdown",
   "id": "2d636efb-cd00-44c3-995a-9d2b103ef7c6",
   "metadata": {},
   "source": [
    "## Create the plotly charts"
   ]
  },
  {
   "cell_type": "code",
   "execution_count": null,
   "id": "55a83e99-102a-438c-90c9-34cc0b8dd166",
   "metadata": {},
   "outputs": [],
   "source": [
    "## Groupby\n",
    "\n",
    "df['value'] = 1 \n",
    "df_groupby_bar = df.groupby('start_station_name', as_index=False).agg({'value': 'sum'})\n",
    "top20 = df_groupby_bar.nlargest(20, 'value')"
   ]
  },
  {
   "cell_type": "code",
   "execution_count": null,
   "id": "7a9e2efc-18a7-47b2-b8b7-522c5e29fb6c",
   "metadata": {},
   "outputs": [],
   "source": [
    "fig = go.Figure(go.Bar(x = top20['start_station_name'], y = top20['value']))\n",
    "fig.show()"
   ]
  },
  {
   "cell_type": "code",
   "execution_count": null,
   "id": "4b212b65-d283-4a1c-807c-d12f16dedf9b",
   "metadata": {},
   "outputs": [],
   "source": [
    "fig = go.Figure(go.Bar(x = top20['start_station_name'], y = top20['value'], marker={'color': top20['value'],'colorscale': 'Blues'}))\n",
    "fig.show()"
   ]
  },
  {
   "cell_type": "code",
   "execution_count": null,
   "id": "5724535e-29cd-4d42-be5d-8bbb8469fc35",
   "metadata": {},
   "outputs": [],
   "source": [
    "## Bar chart\n",
    "\n",
    "fig.update_layout(\n",
    "    title = 'Top 20 most popular bike stations in Chicago',\n",
    "    xaxis_title = 'Start stations',\n",
    "    yaxis_title ='Sum of trips',\n",
    "    width = 900, height = 600\n",
    ")"
   ]
  },
  {
   "cell_type": "code",
   "execution_count": null,
   "id": "d2f63c8a-7772-4b86-b9c6-6f70f7fb74e1",
   "metadata": {},
   "outputs": [],
   "source": [
    "# Line chart\n",
    "\n",
    "fig = make_subplots(specs = [[{\"secondary_y\": True}]])\n",
    "\n",
    "fig.add_trace(\n",
    "go.Scatter(x = df['date'], y = df['bike_rides_daily'], name = 'Daily bike rides'),\n",
    "secondary_y = False\n",
    ")\n",
    "\n",
    "fig.add_trace(\n",
    "go.Scatter(x=df['date'], y = df['avgTemp'], name = 'Daily temperature'),\n",
    "secondary_y=True\n",
    ")\n",
    "fig.show()"
   ]
  },
  {
   "cell_type": "code",
   "execution_count": null,
   "id": "f73a3948-2651-4fc7-8924-f042ff55b085",
   "metadata": {},
   "outputs": [],
   "source": [
    "import gc # this is a garbage collector\n",
    "gc.collect()"
   ]
  },
  {
   "cell_type": "code",
   "execution_count": null,
   "id": "4aeb540d-0abb-4097-8782-10b813a8c2b9",
   "metadata": {},
   "outputs": [],
   "source": [
    "# Save the top 20 stations as a csv file \n",
    "\n",
    "top20.to_csv('top20.csv')"
   ]
  },
  {
   "cell_type": "code",
   "execution_count": null,
   "id": "2f8235f7-821a-4f06-a4f7-2d29cab7e808",
   "metadata": {},
   "outputs": [],
   "source": [
    "df.columns"
   ]
  },
  {
   "cell_type": "markdown",
   "id": "d22a4694-6a4c-4e03-bb2a-100e87544509",
   "metadata": {},
   "source": [
    "Reduce the row and column count"
   ]
  },
  {
   "cell_type": "code",
   "execution_count": null,
   "id": "9405f656-14ea-4309-b4d6-78342c7e72d0",
   "metadata": {},
   "outputs": [],
   "source": [
    "# Create a copy with fewer columns\n",
    "\n",
    "df_1 = df.drop(columns = {'ride_id', 'started_at', 'ended_at' , 'start_station_id', 'end_station_id', 'member_casual', 'merge_flag', 'month'}) "
   ]
  },
  {
   "cell_type": "markdown",
   "id": "20029b69-80b2-4b70-97db-1245ededaa5f",
   "metadata": {},
   "source": [
    "Create a random split"
   ]
  },
  {
   "cell_type": "code",
   "execution_count": null,
   "id": "147475df-b4bb-4167-8574-36f5ca372604",
   "metadata": {},
   "outputs": [],
   "source": [
    "np.random.seed(10)\n",
    "red = np.random.rand(len(df_1)) <= 0.98"
   ]
  },
  {
   "cell_type": "code",
   "execution_count": null,
   "id": "09ae1488-e4f2-4da5-ba94-e95929d3b348",
   "metadata": {},
   "outputs": [],
   "source": [
    "small = df_1[~red]"
   ]
  },
  {
   "cell_type": "code",
   "execution_count": null,
   "id": "06b3643d-a3f2-4f4a-8cfc-71f2c49776a1",
   "metadata": {},
   "outputs": [],
   "source": [
    "small.shape"
   ]
  },
  {
   "cell_type": "code",
   "execution_count": null,
   "id": "3a54e1c7-99ad-48c2-93d6-b27a411f0378",
   "metadata": {},
   "outputs": [],
   "source": [
    "small.to_csv('reduced_data_to_plot_7.csv',index = False)"
   ]
  },
  {
   "cell_type": "code",
   "execution_count": null,
   "id": "e55b0a49-76e5-4529-9879-cf6043954ffe",
   "metadata": {},
   "outputs": [],
   "source": [
    "df_1.to_csv('reduced_data_to_plot.csv')"
   ]
  },
  {
   "cell_type": "code",
   "execution_count": null,
   "id": "2c09cb7d-76a4-40b2-9a56-1d032796423e",
   "metadata": {},
   "outputs": [],
   "source": []
  }
 ],
 "metadata": {
  "kernelspec": {
   "display_name": "Python (new_citi_bike_env)",
   "language": "python",
   "name": "new_citi_bike_env"
  },
  "language_info": {
   "codemirror_mode": {
    "name": "ipython",
    "version": 3
   },
   "file_extension": ".py",
   "mimetype": "text/x-python",
   "name": "python",
   "nbconvert_exporter": "python",
   "pygments_lexer": "ipython3",
   "version": "3.9.21"
  }
 },
 "nbformat": 4,
 "nbformat_minor": 5
}
