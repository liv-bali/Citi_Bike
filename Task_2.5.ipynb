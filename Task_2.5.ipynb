{
 "cells": [
  {
   "cell_type": "markdown",
   "id": "623407b1",
   "metadata": {},
   "source": [
    "## E5 Advanced geospatial plotting"
   ]
  },
  {
   "cell_type": "code",
   "execution_count": 42,
   "id": "c189f86a",
   "metadata": {},
   "outputs": [],
   "source": [
    "import pandas as pd\n",
    "import os\n",
    "from keplergl import KeplerGl\n",
    "from pyproj import CRS\n",
    "import numpy as np\n",
    "from matplotlib import pyplot as plt"
   ]
  },
  {
   "cell_type": "code",
   "execution_count": 43,
   "id": "716dcf45",
   "metadata": {},
   "outputs": [
    {
     "name": "stderr",
     "output_type": "stream",
     "text": [
      "C:\\Users\\olivi\\AppData\\Local\\Temp\\ipykernel_14752\\2076588821.py:1: DtypeWarning: Columns (6,8) have mixed types. Specify dtype option on import or set low_memory=False.\n",
      "  df = pd.read_csv('new_york_data.csv', index_col = 0)\n"
     ]
    }
   ],
   "source": [
    "df = pd.read_csv('new_york_data.csv', index_col = 0)"
   ]
  },
  {
   "cell_type": "code",
   "execution_count": 44,
   "id": "157ec348",
   "metadata": {},
   "outputs": [],
   "source": [
    "df_half = df.sample(frac=0.2, random_state=42)"
   ]
  },
  {
   "cell_type": "code",
   "execution_count": 45,
   "id": "11d38814",
   "metadata": {},
   "outputs": [
    {
     "data": {
      "text/plain": [
       "(2400000, 19)"
      ]
     },
     "execution_count": 45,
     "metadata": {},
     "output_type": "execute_result"
    }
   ],
   "source": [
    "df_half.shape"
   ]
  },
  {
   "cell_type": "markdown",
   "id": "6ec1419a",
   "metadata": {},
   "source": [
    "## Data preprocessing"
   ]
  },
  {
   "cell_type": "code",
   "execution_count": 46,
   "id": "764b3140",
   "metadata": {},
   "outputs": [
    {
     "data": {
      "text/plain": [
       "Index(['ride_id', 'rideable_type', 'started_at', 'ended_at',\n",
       "       'start_station_name', 'start_station_id', 'end_station_name',\n",
       "       'end_station_id', 'start_lat', 'start_lng', 'end_lat', 'end_lng',\n",
       "       'member_casual', 'date', 'avgTemp', '_merge', 'value',\n",
       "       'bike_rides_daily', 'merge_flag'],\n",
       "      dtype='object')"
      ]
     },
     "execution_count": 46,
     "metadata": {},
     "output_type": "execute_result"
    }
   ],
   "source": [
    "df_half.columns"
   ]
  },
  {
   "cell_type": "code",
   "execution_count": 47,
   "id": "03090ec8",
   "metadata": {},
   "outputs": [],
   "source": [
    "# Create a value column and group by start and end station \n",
    "\n",
    "df_half['value'] = 1\n",
    "df_group = df_half.groupby(['start_station_name', 'end_station_name'])['value'].count().reset_index()"
   ]
  },
  {
   "cell_type": "code",
   "execution_count": 48,
   "id": "91d457eb",
   "metadata": {},
   "outputs": [
    {
     "data": {
      "text/html": [
       "<div>\n",
       "<style scoped>\n",
       "    .dataframe tbody tr th:only-of-type {\n",
       "        vertical-align: middle;\n",
       "    }\n",
       "\n",
       "    .dataframe tbody tr th {\n",
       "        vertical-align: top;\n",
       "    }\n",
       "\n",
       "    .dataframe thead th {\n",
       "        text-align: right;\n",
       "    }\n",
       "</style>\n",
       "<table border=\"1\" class=\"dataframe\">\n",
       "  <thead>\n",
       "    <tr style=\"text-align: right;\">\n",
       "      <th></th>\n",
       "      <th>start_station_name</th>\n",
       "      <th>end_station_name</th>\n",
       "      <th>value</th>\n",
       "    </tr>\n",
       "  </thead>\n",
       "  <tbody>\n",
       "    <tr>\n",
       "      <th>0</th>\n",
       "      <td>1 Ave &amp; E 110 St</td>\n",
       "      <td>1 Ave &amp; E 110 St</td>\n",
       "      <td>117</td>\n",
       "    </tr>\n",
       "    <tr>\n",
       "      <th>1</th>\n",
       "      <td>1 Ave &amp; E 110 St</td>\n",
       "      <td>1 Ave &amp; E 44 St</td>\n",
       "      <td>1</td>\n",
       "    </tr>\n",
       "    <tr>\n",
       "      <th>2</th>\n",
       "      <td>1 Ave &amp; E 110 St</td>\n",
       "      <td>1 Ave &amp; E 62 St</td>\n",
       "      <td>1</td>\n",
       "    </tr>\n",
       "    <tr>\n",
       "      <th>3</th>\n",
       "      <td>1 Ave &amp; E 110 St</td>\n",
       "      <td>1 Ave &amp; E 68 St</td>\n",
       "      <td>5</td>\n",
       "    </tr>\n",
       "    <tr>\n",
       "      <th>4</th>\n",
       "      <td>1 Ave &amp; E 110 St</td>\n",
       "      <td>1 Ave &amp; E 78 St</td>\n",
       "      <td>7</td>\n",
       "    </tr>\n",
       "    <tr>\n",
       "      <th>...</th>\n",
       "      <td>...</td>\n",
       "      <td>...</td>\n",
       "      <td>...</td>\n",
       "    </tr>\n",
       "    <tr>\n",
       "      <th>412038</th>\n",
       "      <td>Yankee Ferry Terminal</td>\n",
       "      <td>Soissons Landing</td>\n",
       "      <td>274</td>\n",
       "    </tr>\n",
       "    <tr>\n",
       "      <th>412039</th>\n",
       "      <td>Yankee Ferry Terminal</td>\n",
       "      <td>South St &amp; Gouverneur Ln</td>\n",
       "      <td>1</td>\n",
       "    </tr>\n",
       "    <tr>\n",
       "      <th>412040</th>\n",
       "      <td>Yankee Ferry Terminal</td>\n",
       "      <td>South St &amp; Whitehall St</td>\n",
       "      <td>2</td>\n",
       "    </tr>\n",
       "    <tr>\n",
       "      <th>412041</th>\n",
       "      <td>Yankee Ferry Terminal</td>\n",
       "      <td>West St &amp; Liberty St</td>\n",
       "      <td>1</td>\n",
       "    </tr>\n",
       "    <tr>\n",
       "      <th>412042</th>\n",
       "      <td>Yankee Ferry Terminal</td>\n",
       "      <td>Yankee Ferry Terminal</td>\n",
       "      <td>419</td>\n",
       "    </tr>\n",
       "  </tbody>\n",
       "</table>\n",
       "<p>412043 rows × 3 columns</p>\n",
       "</div>"
      ],
      "text/plain": [
       "           start_station_name          end_station_name  value\n",
       "0            1 Ave & E 110 St          1 Ave & E 110 St    117\n",
       "1            1 Ave & E 110 St           1 Ave & E 44 St      1\n",
       "2            1 Ave & E 110 St           1 Ave & E 62 St      1\n",
       "3            1 Ave & E 110 St           1 Ave & E 68 St      5\n",
       "4            1 Ave & E 110 St           1 Ave & E 78 St      7\n",
       "...                       ...                       ...    ...\n",
       "412038  Yankee Ferry Terminal          Soissons Landing    274\n",
       "412039  Yankee Ferry Terminal  South St & Gouverneur Ln      1\n",
       "412040  Yankee Ferry Terminal   South St & Whitehall St      2\n",
       "412041  Yankee Ferry Terminal      West St & Liberty St      1\n",
       "412042  Yankee Ferry Terminal     Yankee Ferry Terminal    419\n",
       "\n",
       "[412043 rows x 3 columns]"
      ]
     },
     "execution_count": 48,
     "metadata": {},
     "output_type": "execute_result"
    }
   ],
   "source": [
    "df_group"
   ]
  },
  {
   "cell_type": "code",
   "execution_count": 49,
   "id": "033ae436",
   "metadata": {},
   "outputs": [
    {
     "name": "stdout",
     "output_type": "stream",
     "text": [
      "2391701\n",
      "(2400000, 19)\n"
     ]
    }
   ],
   "source": [
    "print(df_group['value'].sum())\n",
    "print(df_half.shape)"
   ]
  },
  {
   "cell_type": "code",
   "execution_count": 50,
   "id": "61c716e8",
   "metadata": {},
   "outputs": [
    {
     "data": {
      "text/plain": [
       "count    412043.000000\n",
       "mean          5.804494\n",
       "std          12.853058\n",
       "min           1.000000\n",
       "25%           1.000000\n",
       "50%           2.000000\n",
       "75%           5.000000\n",
       "max         919.000000\n",
       "Name: value, dtype: float64"
      ]
     },
     "execution_count": 50,
     "metadata": {},
     "output_type": "execute_result"
    }
   ],
   "source": [
    "df_group['value'].describe()"
   ]
  },
  {
   "cell_type": "markdown",
   "id": "3f69fafd",
   "metadata": {},
   "source": [
    "Some exploratory analysis into the trips"
   ]
  },
  {
   "cell_type": "code",
   "execution_count": 51,
   "id": "7c2d7a43",
   "metadata": {},
   "outputs": [
    {
     "data": {
      "image/png": "[encoded data removed]",
      "text/plain": [
       "<Figure size 640x480 with 1 Axes>"
      ]
     },
     "metadata": {},
     "output_type": "display_data"
    }
   ],
   "source": [
    "df_group['value'].hist(bins = 100)\n",
    "plt.show()"
   ]
  },
  {
   "cell_type": "code",
   "execution_count": 52,
   "id": "423ff33a",
   "metadata": {},
   "outputs": [
    {
     "data": {
      "text/plain": [
       "[]"
      ]
     },
     "execution_count": 52,
     "metadata": {},
     "output_type": "execute_result"
    },
    {
     "data": {
      "image/png": "[encoded data removed]",
      "text/plain": [
       "<Figure size 640x480 with 1 Axes>"
      ]
     },
     "metadata": {},
     "output_type": "display_data"
    }
   ],
   "source": [
    "b_plot = df_group.boxplot(column = 'value') \n",
    "b_plot.plot()"
   ]
  },
  {
   "cell_type": "code",
   "execution_count": 53,
   "id": "c98129d9",
   "metadata": {},
   "outputs": [
    {
     "data": {
      "text/plain": [
       "value\n",
       "1      170090\n",
       "2       64510\n",
       "3       36550\n",
       "4       24208\n",
       "5       17419\n",
       "        ...  \n",
       "220         1\n",
       "221         1\n",
       "208         1\n",
       "274         1\n",
       "419         1\n",
       "Name: count, Length: 310, dtype: int64"
      ]
     },
     "execution_count": 53,
     "metadata": {},
     "output_type": "execute_result"
    }
   ],
   "source": [
    "df_group['value'].sort_index().value_counts()"
   ]
  },
  {
   "cell_type": "code",
   "execution_count": 54,
   "id": "db065c07",
   "metadata": {},
   "outputs": [],
   "source": [
    "df_group.to_csv('df_groupby_final.csv')"
   ]
  },
  {
   "cell_type": "code",
   "execution_count": 55,
   "id": "0db31b23",
   "metadata": {
    "scrolled": true
   },
   "outputs": [
    {
     "data": {
      "text/html": [
       "<div>\n",
       "<style scoped>\n",
       "    .dataframe tbody tr th:only-of-type {\n",
       "        vertical-align: middle;\n",
       "    }\n",
       "\n",
       "    .dataframe tbody tr th {\n",
       "        vertical-align: top;\n",
       "    }\n",
       "\n",
       "    .dataframe thead th {\n",
       "        text-align: right;\n",
       "    }\n",
       "</style>\n",
       "<table border=\"1\" class=\"dataframe\">\n",
       "  <thead>\n",
       "    <tr style=\"text-align: right;\">\n",
       "      <th></th>\n",
       "      <th>start_station_name</th>\n",
       "      <th>end_station_name</th>\n",
       "      <th>value</th>\n",
       "    </tr>\n",
       "  </thead>\n",
       "  <tbody>\n",
       "    <tr>\n",
       "      <th>0</th>\n",
       "      <td>1 Ave &amp; E 110 St</td>\n",
       "      <td>1 Ave &amp; E 110 St</td>\n",
       "      <td>117</td>\n",
       "    </tr>\n",
       "    <tr>\n",
       "      <th>1</th>\n",
       "      <td>1 Ave &amp; E 110 St</td>\n",
       "      <td>1 Ave &amp; E 44 St</td>\n",
       "      <td>1</td>\n",
       "    </tr>\n",
       "    <tr>\n",
       "      <th>2</th>\n",
       "      <td>1 Ave &amp; E 110 St</td>\n",
       "      <td>1 Ave &amp; E 62 St</td>\n",
       "      <td>1</td>\n",
       "    </tr>\n",
       "    <tr>\n",
       "      <th>3</th>\n",
       "      <td>1 Ave &amp; E 110 St</td>\n",
       "      <td>1 Ave &amp; E 68 St</td>\n",
       "      <td>5</td>\n",
       "    </tr>\n",
       "    <tr>\n",
       "      <th>4</th>\n",
       "      <td>1 Ave &amp; E 110 St</td>\n",
       "      <td>1 Ave &amp; E 78 St</td>\n",
       "      <td>7</td>\n",
       "    </tr>\n",
       "  </tbody>\n",
       "</table>\n",
       "</div>"
      ],
      "text/plain": [
       "  start_station_name  end_station_name  value\n",
       "0   1 Ave & E 110 St  1 Ave & E 110 St    117\n",
       "1   1 Ave & E 110 St   1 Ave & E 44 St      1\n",
       "2   1 Ave & E 110 St   1 Ave & E 62 St      1\n",
       "3   1 Ave & E 110 St   1 Ave & E 68 St      5\n",
       "4   1 Ave & E 110 St   1 Ave & E 78 St      7"
      ]
     },
     "execution_count": 55,
     "metadata": {},
     "output_type": "execute_result"
    }
   ],
   "source": [
    "df_group.head()"
   ]
  },
  {
   "cell_type": "code",
   "execution_count": 56,
   "id": "80a1dc63",
   "metadata": {},
   "outputs": [],
   "source": [
    "df_half.rename(columns = {'value': 'trips'}, inplace = True)"
   ]
  },
  {
   "cell_type": "code",
   "execution_count": 57,
   "id": "d90f5a62",
   "metadata": {},
   "outputs": [],
   "source": [
    "df_group.rename(columns = {'value': 'trips'}, inplace = True)"
   ]
  },
  {
   "cell_type": "code",
   "execution_count": 58,
   "id": "3aafaf81",
   "metadata": {},
   "outputs": [
    {
     "data": {
      "text/plain": [
       "Index(['start_station_name', 'end_station_name', 'trips'], dtype='object')"
      ]
     },
     "execution_count": 58,
     "metadata": {},
     "output_type": "execute_result"
    }
   ],
   "source": [
    "df_group.columns"
   ]
  },
  {
   "cell_type": "code",
   "execution_count": 59,
   "id": "3378ace4",
   "metadata": {},
   "outputs": [
    {
     "data": {
      "text/html": [
       "<div>\n",
       "<style scoped>\n",
       "    .dataframe tbody tr th:only-of-type {\n",
       "        vertical-align: middle;\n",
       "    }\n",
       "\n",
       "    .dataframe tbody tr th {\n",
       "        vertical-align: top;\n",
       "    }\n",
       "\n",
       "    .dataframe thead th {\n",
       "        text-align: right;\n",
       "    }\n",
       "</style>\n",
       "<table border=\"1\" class=\"dataframe\">\n",
       "  <thead>\n",
       "    <tr style=\"text-align: right;\">\n",
       "      <th></th>\n",
       "      <th>ride_id</th>\n",
       "      <th>rideable_type</th>\n",
       "      <th>started_at</th>\n",
       "      <th>ended_at</th>\n",
       "      <th>start_station_name</th>\n",
       "      <th>start_station_id</th>\n",
       "      <th>end_station_name</th>\n",
       "      <th>end_station_id</th>\n",
       "      <th>start_lat</th>\n",
       "      <th>start_lng</th>\n",
       "      <th>end_lat</th>\n",
       "      <th>end_lng</th>\n",
       "      <th>member_casual</th>\n",
       "      <th>date</th>\n",
       "      <th>avgTemp</th>\n",
       "      <th>_merge</th>\n",
       "      <th>trips</th>\n",
       "      <th>bike_rides_daily</th>\n",
       "      <th>merge_flag</th>\n",
       "    </tr>\n",
       "  </thead>\n",
       "  <tbody>\n",
       "    <tr>\n",
       "      <th>383698</th>\n",
       "      <td>D62F12416207D0F4</td>\n",
       "      <td>classic_bike</td>\n",
       "      <td>2022-01-13 17:31:00.997</td>\n",
       "      <td>2022-01-13 17:49:21.944</td>\n",
       "      <td>Union St &amp; Bedford Ave</td>\n",
       "      <td>3879.04</td>\n",
       "      <td>Central Ave &amp; Melrose St</td>\n",
       "      <td>4832.07</td>\n",
       "      <td>40.669178</td>\n",
       "      <td>-73.955416</td>\n",
       "      <td>40.701120</td>\n",
       "      <td>-73.930390</td>\n",
       "      <td>member</td>\n",
       "      <td>2022-01-13</td>\n",
       "      <td>4.0</td>\n",
       "      <td>both</td>\n",
       "      <td>1</td>\n",
       "      <td>49440.0</td>\n",
       "      <td>both</td>\n",
       "    </tr>\n",
       "    <tr>\n",
       "      <th>11839676</th>\n",
       "      <td>CF5CB6BBAD394F00</td>\n",
       "      <td>classic_bike</td>\n",
       "      <td>2022-12-24 14:01:08.869</td>\n",
       "      <td>2022-12-24 14:05:14.865</td>\n",
       "      <td>2 Ave &amp; E 104 St</td>\n",
       "      <td>7436.11</td>\n",
       "      <td>E 93 St &amp; 2 Ave</td>\n",
       "      <td>7286.02</td>\n",
       "      <td>40.789211</td>\n",
       "      <td>-73.943708</td>\n",
       "      <td>40.782454</td>\n",
       "      <td>-73.948920</td>\n",
       "      <td>member</td>\n",
       "      <td>2022-12-24</td>\n",
       "      <td>-11.7</td>\n",
       "      <td>both</td>\n",
       "      <td>1</td>\n",
       "      <td>7331.0</td>\n",
       "      <td>both</td>\n",
       "    </tr>\n",
       "    <tr>\n",
       "      <th>401266</th>\n",
       "      <td>8F12410F0C018A87</td>\n",
       "      <td>classic_bike</td>\n",
       "      <td>2022-01-13 12:37:36.663</td>\n",
       "      <td>2022-01-13 12:43:57.937</td>\n",
       "      <td>Park Ave &amp; E 124 St</td>\n",
       "      <td>7682.01</td>\n",
       "      <td>Lenox Ave &amp; W 130 St</td>\n",
       "      <td>7753.13</td>\n",
       "      <td>40.804555</td>\n",
       "      <td>-73.939686</td>\n",
       "      <td>40.810792</td>\n",
       "      <td>-73.943068</td>\n",
       "      <td>member</td>\n",
       "      <td>2022-01-13</td>\n",
       "      <td>4.0</td>\n",
       "      <td>both</td>\n",
       "      <td>1</td>\n",
       "      <td>49440.0</td>\n",
       "      <td>both</td>\n",
       "    </tr>\n",
       "    <tr>\n",
       "      <th>7296717</th>\n",
       "      <td>6BBB5C883AF30B39</td>\n",
       "      <td>electric_bike</td>\n",
       "      <td>2022-08-10 17:42:42.604</td>\n",
       "      <td>2022-08-10 17:57:24.887</td>\n",
       "      <td>Water St &amp; Main St</td>\n",
       "      <td>4936.14</td>\n",
       "      <td>Coffey St &amp; Ferris St</td>\n",
       "      <td>4137.14</td>\n",
       "      <td>40.702991</td>\n",
       "      <td>-73.990074</td>\n",
       "      <td>40.678184</td>\n",
       "      <td>-74.017017</td>\n",
       "      <td>member</td>\n",
       "      <td>2022-08-10</td>\n",
       "      <td>27.2</td>\n",
       "      <td>both</td>\n",
       "      <td>1</td>\n",
       "      <td>33992.0</td>\n",
       "      <td>both</td>\n",
       "    </tr>\n",
       "    <tr>\n",
       "      <th>10098924</th>\n",
       "      <td>6F994D10EB4878E1</td>\n",
       "      <td>classic_bike</td>\n",
       "      <td>2022-11-03 19:00:29.728</td>\n",
       "      <td>2022-11-03 19:01:56.971</td>\n",
       "      <td>E 132 St &amp; Madison Ave</td>\n",
       "      <td>7748.02</td>\n",
       "      <td>5 Ave &amp; W 131 St</td>\n",
       "      <td>7735.05</td>\n",
       "      <td>40.810224</td>\n",
       "      <td>-73.937195</td>\n",
       "      <td>40.810140</td>\n",
       "      <td>-73.939730</td>\n",
       "      <td>member</td>\n",
       "      <td>2022-11-03</td>\n",
       "      <td>15.7</td>\n",
       "      <td>both</td>\n",
       "      <td>1</td>\n",
       "      <td>49531.0</td>\n",
       "      <td>both</td>\n",
       "    </tr>\n",
       "  </tbody>\n",
       "</table>\n",
       "</div>"
      ],
      "text/plain": [
       "                   ride_id  rideable_type               started_at  \\\n",
       "383698    D62F12416207D0F4   classic_bike  2022-01-13 17:31:00.997   \n",
       "11839676  CF5CB6BBAD394F00   classic_bike  2022-12-24 14:01:08.869   \n",
       "401266    8F12410F0C018A87   classic_bike  2022-01-13 12:37:36.663   \n",
       "7296717   6BBB5C883AF30B39  electric_bike  2022-08-10 17:42:42.604   \n",
       "10098924  6F994D10EB4878E1   classic_bike  2022-11-03 19:00:29.728   \n",
       "\n",
       "                         ended_at      start_station_name start_station_id  \\\n",
       "383698    2022-01-13 17:49:21.944  Union St & Bedford Ave          3879.04   \n",
       "11839676  2022-12-24 14:05:14.865        2 Ave & E 104 St          7436.11   \n",
       "401266    2022-01-13 12:43:57.937     Park Ave & E 124 St          7682.01   \n",
       "7296717   2022-08-10 17:57:24.887      Water St & Main St          4936.14   \n",
       "10098924  2022-11-03 19:01:56.971  E 132 St & Madison Ave          7748.02   \n",
       "\n",
       "                  end_station_name end_station_id  start_lat  start_lng  \\\n",
       "383698    Central Ave & Melrose St        4832.07  40.669178 -73.955416   \n",
       "11839676           E 93 St & 2 Ave        7286.02  40.789211 -73.943708   \n",
       "401266        Lenox Ave & W 130 St        7753.13  40.804555 -73.939686   \n",
       "7296717      Coffey St & Ferris St        4137.14  40.702991 -73.990074   \n",
       "10098924          5 Ave & W 131 St        7735.05  40.810224 -73.937195   \n",
       "\n",
       "            end_lat    end_lng member_casual        date  avgTemp _merge  \\\n",
       "383698    40.701120 -73.930390        member  2022-01-13      4.0   both   \n",
       "11839676  40.782454 -73.948920        member  2022-12-24    -11.7   both   \n",
       "401266    40.810792 -73.943068        member  2022-01-13      4.0   both   \n",
       "7296717   40.678184 -74.017017        member  2022-08-10     27.2   both   \n",
       "10098924  40.810140 -73.939730        member  2022-11-03     15.7   both   \n",
       "\n",
       "          trips  bike_rides_daily merge_flag  \n",
       "383698        1           49440.0       both  \n",
       "11839676      1            7331.0       both  \n",
       "401266        1           49440.0       both  \n",
       "7296717       1           33992.0       both  \n",
       "10098924      1           49531.0       both  "
      ]
     },
     "execution_count": 59,
     "metadata": {},
     "output_type": "execute_result"
    }
   ],
   "source": [
    "df_half.head()"
   ]
  },
  {
   "cell_type": "code",
   "execution_count": 60,
   "id": "0affb6a9",
   "metadata": {},
   "outputs": [],
   "source": [
    "df_stations = df_half[['end_station_name', 'start_station_name', 'trips' , 'start_lat', 'start_lng' , 'end_lat' , 'end_lng']]"
   ]
  },
  {
   "cell_type": "code",
   "execution_count": 61,
   "id": "4e143d78",
   "metadata": {},
   "outputs": [
    {
     "data": {
      "text/html": [
       "<div>\n",
       "<style scoped>\n",
       "    .dataframe tbody tr th:only-of-type {\n",
       "        vertical-align: middle;\n",
       "    }\n",
       "\n",
       "    .dataframe tbody tr th {\n",
       "        vertical-align: top;\n",
       "    }\n",
       "\n",
       "    .dataframe thead th {\n",
       "        text-align: right;\n",
       "    }\n",
       "</style>\n",
       "<table border=\"1\" class=\"dataframe\">\n",
       "  <thead>\n",
       "    <tr style=\"text-align: right;\">\n",
       "      <th></th>\n",
       "      <th>end_station_name</th>\n",
       "      <th>start_station_name</th>\n",
       "      <th>trips</th>\n",
       "      <th>start_lat</th>\n",
       "      <th>start_lng</th>\n",
       "      <th>end_lat</th>\n",
       "      <th>end_lng</th>\n",
       "    </tr>\n",
       "  </thead>\n",
       "  <tbody>\n",
       "    <tr>\n",
       "      <th>383698</th>\n",
       "      <td>Central Ave &amp; Melrose St</td>\n",
       "      <td>Union St &amp; Bedford Ave</td>\n",
       "      <td>1</td>\n",
       "      <td>40.669178</td>\n",
       "      <td>-73.955416</td>\n",
       "      <td>40.701120</td>\n",
       "      <td>-73.930390</td>\n",
       "    </tr>\n",
       "    <tr>\n",
       "      <th>11839676</th>\n",
       "      <td>E 93 St &amp; 2 Ave</td>\n",
       "      <td>2 Ave &amp; E 104 St</td>\n",
       "      <td>1</td>\n",
       "      <td>40.789211</td>\n",
       "      <td>-73.943708</td>\n",
       "      <td>40.782454</td>\n",
       "      <td>-73.948920</td>\n",
       "    </tr>\n",
       "    <tr>\n",
       "      <th>401266</th>\n",
       "      <td>Lenox Ave &amp; W 130 St</td>\n",
       "      <td>Park Ave &amp; E 124 St</td>\n",
       "      <td>1</td>\n",
       "      <td>40.804555</td>\n",
       "      <td>-73.939686</td>\n",
       "      <td>40.810792</td>\n",
       "      <td>-73.943068</td>\n",
       "    </tr>\n",
       "    <tr>\n",
       "      <th>7296717</th>\n",
       "      <td>Coffey St &amp; Ferris St</td>\n",
       "      <td>Water St &amp; Main St</td>\n",
       "      <td>1</td>\n",
       "      <td>40.702991</td>\n",
       "      <td>-73.990074</td>\n",
       "      <td>40.678184</td>\n",
       "      <td>-74.017017</td>\n",
       "    </tr>\n",
       "    <tr>\n",
       "      <th>10098924</th>\n",
       "      <td>5 Ave &amp; W 131 St</td>\n",
       "      <td>E 132 St &amp; Madison Ave</td>\n",
       "      <td>1</td>\n",
       "      <td>40.810224</td>\n",
       "      <td>-73.937195</td>\n",
       "      <td>40.810140</td>\n",
       "      <td>-73.939730</td>\n",
       "    </tr>\n",
       "    <tr>\n",
       "      <th>...</th>\n",
       "      <td>...</td>\n",
       "      <td>...</td>\n",
       "      <td>...</td>\n",
       "      <td>...</td>\n",
       "      <td>...</td>\n",
       "      <td>...</td>\n",
       "      <td>...</td>\n",
       "    </tr>\n",
       "    <tr>\n",
       "      <th>4101160</th>\n",
       "      <td>W 25 St &amp; 6 Ave</td>\n",
       "      <td>W 39 St &amp; 9 Ave</td>\n",
       "      <td>1</td>\n",
       "      <td>40.756458</td>\n",
       "      <td>-73.993722</td>\n",
       "      <td>40.743954</td>\n",
       "      <td>-73.991449</td>\n",
       "    </tr>\n",
       "    <tr>\n",
       "      <th>3223299</th>\n",
       "      <td>E 51 St &amp; 2 Ave</td>\n",
       "      <td>1 Ave &amp; E 78 St</td>\n",
       "      <td>1</td>\n",
       "      <td>40.771404</td>\n",
       "      <td>-73.953517</td>\n",
       "      <td>40.755293</td>\n",
       "      <td>-73.967641</td>\n",
       "    </tr>\n",
       "    <tr>\n",
       "      <th>7705018</th>\n",
       "      <td>Bergen St &amp; Flatbush Ave</td>\n",
       "      <td>Bergen St &amp; Smith St</td>\n",
       "      <td>1</td>\n",
       "      <td>40.686744</td>\n",
       "      <td>-73.990632</td>\n",
       "      <td>40.680945</td>\n",
       "      <td>-73.975673</td>\n",
       "    </tr>\n",
       "    <tr>\n",
       "      <th>373297</th>\n",
       "      <td>W 13 St &amp; 5 Ave</td>\n",
       "      <td>E 14 St &amp; Avenue B</td>\n",
       "      <td>1</td>\n",
       "      <td>40.729387</td>\n",
       "      <td>-73.977724</td>\n",
       "      <td>40.735445</td>\n",
       "      <td>-73.994310</td>\n",
       "    </tr>\n",
       "    <tr>\n",
       "      <th>9168893</th>\n",
       "      <td>W 21 St &amp; 6 Ave</td>\n",
       "      <td>W 11 St &amp; 6 Ave</td>\n",
       "      <td>1</td>\n",
       "      <td>40.735324</td>\n",
       "      <td>-73.998004</td>\n",
       "      <td>40.741740</td>\n",
       "      <td>-73.994156</td>\n",
       "    </tr>\n",
       "  </tbody>\n",
       "</table>\n",
       "<p>2400000 rows × 7 columns</p>\n",
       "</div>"
      ],
      "text/plain": [
       "                  end_station_name      start_station_name  trips  start_lat  \\\n",
       "383698    Central Ave & Melrose St  Union St & Bedford Ave      1  40.669178   \n",
       "11839676           E 93 St & 2 Ave        2 Ave & E 104 St      1  40.789211   \n",
       "401266        Lenox Ave & W 130 St     Park Ave & E 124 St      1  40.804555   \n",
       "7296717      Coffey St & Ferris St      Water St & Main St      1  40.702991   \n",
       "10098924          5 Ave & W 131 St  E 132 St & Madison Ave      1  40.810224   \n",
       "...                            ...                     ...    ...        ...   \n",
       "4101160            W 25 St & 6 Ave         W 39 St & 9 Ave      1  40.756458   \n",
       "3223299            E 51 St & 2 Ave         1 Ave & E 78 St      1  40.771404   \n",
       "7705018   Bergen St & Flatbush Ave    Bergen St & Smith St      1  40.686744   \n",
       "373297             W 13 St & 5 Ave      E 14 St & Avenue B      1  40.729387   \n",
       "9168893            W 21 St & 6 Ave         W 11 St & 6 Ave      1  40.735324   \n",
       "\n",
       "          start_lng    end_lat    end_lng  \n",
       "383698   -73.955416  40.701120 -73.930390  \n",
       "11839676 -73.943708  40.782454 -73.948920  \n",
       "401266   -73.939686  40.810792 -73.943068  \n",
       "7296717  -73.990074  40.678184 -74.017017  \n",
       "10098924 -73.937195  40.810140 -73.939730  \n",
       "...             ...        ...        ...  \n",
       "4101160  -73.993722  40.743954 -73.991449  \n",
       "3223299  -73.953517  40.755293 -73.967641  \n",
       "7705018  -73.990632  40.680945 -73.975673  \n",
       "373297   -73.977724  40.735445 -73.994310  \n",
       "9168893  -73.998004  40.741740 -73.994156  \n",
       "\n",
       "[2400000 rows x 7 columns]"
      ]
     },
     "execution_count": 61,
     "metadata": {},
     "output_type": "execute_result"
    }
   ],
   "source": [
    "df_stations"
   ]
  },
  {
   "cell_type": "code",
   "execution_count": 62,
   "id": "afc72b60",
   "metadata": {},
   "outputs": [],
   "source": [
    "df_final = df_stations.rename(columns={\n",
    "    'start_lat': 'Latitude_x',\n",
    "    'end_lng': 'Longitude_y',\n",
    "    'end_lat': 'Latitude_y',\n",
    "    'start_lng': 'Longitude_x'  # Fixed this — you had 'Longitude_y' twice!\n",
    "})"
   ]
  },
  {
   "cell_type": "code",
   "execution_count": 63,
   "id": "618b9fd3",
   "metadata": {},
   "outputs": [
    {
     "data": {
      "text/plain": [
       "12397"
      ]
     },
     "execution_count": 63,
     "metadata": {},
     "output_type": "execute_result"
    }
   ],
   "source": [
    "import gc # this is garbage collector - speeds up performance\n",
    "gc.collect()"
   ]
  },
  {
   "cell_type": "code",
   "execution_count": 64,
   "id": "ed971fe5",
   "metadata": {},
   "outputs": [
    {
     "data": {
      "text/html": [
       "<div>\n",
       "<style scoped>\n",
       "    .dataframe tbody tr th:only-of-type {\n",
       "        vertical-align: middle;\n",
       "    }\n",
       "\n",
       "    .dataframe tbody tr th {\n",
       "        vertical-align: top;\n",
       "    }\n",
       "\n",
       "    .dataframe thead th {\n",
       "        text-align: right;\n",
       "    }\n",
       "</style>\n",
       "<table border=\"1\" class=\"dataframe\">\n",
       "  <thead>\n",
       "    <tr style=\"text-align: right;\">\n",
       "      <th></th>\n",
       "      <th>end_station_name</th>\n",
       "      <th>start_station_name</th>\n",
       "      <th>trips</th>\n",
       "      <th>Latitude_x</th>\n",
       "      <th>Longitude_x</th>\n",
       "      <th>Latitude_y</th>\n",
       "      <th>Longitude_y</th>\n",
       "    </tr>\n",
       "  </thead>\n",
       "  <tbody>\n",
       "    <tr>\n",
       "      <th>383698</th>\n",
       "      <td>Central Ave &amp; Melrose St</td>\n",
       "      <td>Union St &amp; Bedford Ave</td>\n",
       "      <td>1</td>\n",
       "      <td>40.669178</td>\n",
       "      <td>-73.955416</td>\n",
       "      <td>40.701120</td>\n",
       "      <td>-73.930390</td>\n",
       "    </tr>\n",
       "    <tr>\n",
       "      <th>11839676</th>\n",
       "      <td>E 93 St &amp; 2 Ave</td>\n",
       "      <td>2 Ave &amp; E 104 St</td>\n",
       "      <td>1</td>\n",
       "      <td>40.789211</td>\n",
       "      <td>-73.943708</td>\n",
       "      <td>40.782454</td>\n",
       "      <td>-73.948920</td>\n",
       "    </tr>\n",
       "    <tr>\n",
       "      <th>401266</th>\n",
       "      <td>Lenox Ave &amp; W 130 St</td>\n",
       "      <td>Park Ave &amp; E 124 St</td>\n",
       "      <td>1</td>\n",
       "      <td>40.804555</td>\n",
       "      <td>-73.939686</td>\n",
       "      <td>40.810792</td>\n",
       "      <td>-73.943068</td>\n",
       "    </tr>\n",
       "    <tr>\n",
       "      <th>7296717</th>\n",
       "      <td>Coffey St &amp; Ferris St</td>\n",
       "      <td>Water St &amp; Main St</td>\n",
       "      <td>1</td>\n",
       "      <td>40.702991</td>\n",
       "      <td>-73.990074</td>\n",
       "      <td>40.678184</td>\n",
       "      <td>-74.017017</td>\n",
       "    </tr>\n",
       "    <tr>\n",
       "      <th>10098924</th>\n",
       "      <td>5 Ave &amp; W 131 St</td>\n",
       "      <td>E 132 St &amp; Madison Ave</td>\n",
       "      <td>1</td>\n",
       "      <td>40.810224</td>\n",
       "      <td>-73.937195</td>\n",
       "      <td>40.810140</td>\n",
       "      <td>-73.939730</td>\n",
       "    </tr>\n",
       "  </tbody>\n",
       "</table>\n",
       "</div>"
      ],
      "text/plain": [
       "                  end_station_name      start_station_name  trips  Latitude_x  \\\n",
       "383698    Central Ave & Melrose St  Union St & Bedford Ave      1   40.669178   \n",
       "11839676           E 93 St & 2 Ave        2 Ave & E 104 St      1   40.789211   \n",
       "401266        Lenox Ave & W 130 St     Park Ave & E 124 St      1   40.804555   \n",
       "7296717      Coffey St & Ferris St      Water St & Main St      1   40.702991   \n",
       "10098924          5 Ave & W 131 St  E 132 St & Madison Ave      1   40.810224   \n",
       "\n",
       "          Longitude_x  Latitude_y  Longitude_y  \n",
       "383698     -73.955416   40.701120   -73.930390  \n",
       "11839676   -73.943708   40.782454   -73.948920  \n",
       "401266     -73.939686   40.810792   -73.943068  \n",
       "7296717    -73.990074   40.678184   -74.017017  \n",
       "10098924   -73.937195   40.810140   -73.939730  "
      ]
     },
     "execution_count": 64,
     "metadata": {},
     "output_type": "execute_result"
    }
   ],
   "source": [
    "df_final.head()"
   ]
  },
  {
   "cell_type": "code",
   "execution_count": 65,
   "id": "9a869c9e",
   "metadata": {},
   "outputs": [],
   "source": [
    "df_final.rename(columns = {'Latitude_x' : 'start_lat', 'Longitude_x' : 'start_lon', \n",
    "       'Latitude_y' : 'end_lat', 'Longitude_y' : 'end_lon',}, inplace = True)"
   ]
  },
  {
   "cell_type": "markdown",
   "id": "5860f5da",
   "metadata": {},
   "source": [
    "## Plot the map"
   ]
  },
  {
   "cell_type": "code",
   "execution_count": 66,
   "id": "b9d3b571",
   "metadata": {},
   "outputs": [],
   "source": [
    "df_final.to_csv('df_final_locations_for_map.csv')"
   ]
  },
  {
   "cell_type": "code",
   "execution_count": 67,
   "id": "c652f993",
   "metadata": {},
   "outputs": [
    {
     "name": "stdout",
     "output_type": "stream",
     "text": [
      "end_station_name      8299\n",
      "start_station_name      10\n",
      "trips                    0\n",
      "start_lat                0\n",
      "start_lon                0\n",
      "end_lat               4523\n",
      "end_lon               4523\n",
      "dtype: int64\n",
      "         end_station_name         start_station_name  trips  start_lat  \\\n",
      "55777                 NaN         E 17 St & Broadway      1  40.737050   \n",
      "11211752              NaN   Murray St & Greenwich St      1  40.714826   \n",
      "8144011               NaN    DeKalb Ave & Hudson Ave      1  40.689888   \n",
      "159033                NaN  Bushwick Ave & Forrest St      1  40.700760   \n",
      "8750975               NaN            W 26 St & 8 Ave      1  40.747348   \n",
      "...                   ...                        ...    ...        ...   \n",
      "753013                NaN    Menahan St & Seneca Ave      1  40.704610   \n",
      "9110053               NaN            1 Ave & E 44 St      1  40.749748   \n",
      "11841511              NaN            E 48 St & 5 Ave      1  40.757398   \n",
      "9506962               NaN           W 26 St & 10 Ave      1  40.749718   \n",
      "3155599               NaN      Fulton St & Utica Ave      1  40.679427   \n",
      "\n",
      "          start_lon  end_lat  end_lon  \n",
      "55777    -73.990093    40.73   -74.00  \n",
      "11211752 -74.011093    40.70   -74.01  \n",
      "8144011  -73.981013      NaN      NaN  \n",
      "159033   -73.936410      NaN      NaN  \n",
      "8750975  -73.997236    40.73   -74.01  \n",
      "...             ...      ...      ...  \n",
      "753013   -73.910540    40.68   -73.98  \n",
      "9110053  -73.969226    40.75   -73.98  \n",
      "11841511 -73.978032    40.75   -73.98  \n",
      "9506962  -74.002950      NaN      NaN  \n",
      "3155599  -73.929891      NaN      NaN  \n",
      "\n",
      "[8299 rows x 7 columns]\n"
     ]
    }
   ],
   "source": [
    "print(df_final.isna().sum())  # Shows NaN counts per column\n",
    "print(df_final[df_final.isna().any(axis=1)])  # Shows rows with NaNs"
   ]
  },
  {
   "cell_type": "code",
   "execution_count": 68,
   "id": "f53c5ebf",
   "metadata": {},
   "outputs": [],
   "source": [
    "df_final.dropna(inplace=True)"
   ]
  },
  {
   "cell_type": "code",
   "execution_count": 69,
   "id": "326e710f-d698-4956-ae0b-cb71723cb2eb",
   "metadata": {},
   "outputs": [
    {
     "data": {
      "text/plain": [
       "Index(['end_station_name', 'start_station_name', 'trips', 'start_lat',\n",
       "       'start_lon', 'end_lat', 'end_lon'],\n",
       "      dtype='object')"
      ]
     },
     "execution_count": 69,
     "metadata": {},
     "output_type": "execute_result"
    }
   ],
   "source": [
    "df_final.columns"
   ]
  },
  {
   "cell_type": "code",
   "execution_count": 70,
   "id": "de8325dd-678d-4db6-8077-a27a32be24d3",
   "metadata": {},
   "outputs": [],
   "source": [
    "df_sample = df_final.iloc[::60].copy()"
   ]
  },
  {
   "cell_type": "code",
   "execution_count": 71,
   "id": "c4d674d9",
   "metadata": {
    "scrolled": true
   },
   "outputs": [
    {
     "name": "stdout",
     "output_type": "stream",
     "text": [
      "User Guide: https://docs.kepler.gl/docs/keplergl-jupyter\n"
     ]
    },
    {
     "data": {
      "application/vnd.jupyter.widget-view+json": {
       "model_id": "e7eee37cfa6040dabb778875cbe79e65",
       "version_major": 2,
       "version_minor": 0
      },
      "text/plain": [
       "KeplerGl(data={'data_1':                     end_station_name         start_station_name  trips  \\\n",
       "383698     …"
      ]
     },
     "execution_count": 71,
     "metadata": {},
     "output_type": "execute_result"
    }
   ],
   "source": [
    "# Create KeplerGl instance\n",
    "\n",
    "m = KeplerGl(height = 700, data={\"data_1\": df_sample})\n",
    "m"
   ]
  },
  {
   "cell_type": "markdown",
   "id": "b001b2b5-f13c-4496-9147-64d45cd05d6b",
   "metadata": {},
   "source": [
    "To enhance the clarity and visual impact of the map, I adjusted both the color of the points and added arc layers to show connections between pickup and drop-off locations. I chose a blue-to-purple color palette for the points to make them stand out clearly against the default map background, and a contrasting orange tone for the arcs to emphasize the direction and frequency of trips.\n",
    "\n",
    "These color adjustments weren’t just for aesthetics—they significantly improve legibility, especially in dense areas like Manhattan, where overlapping points and lines can easily become difficult to distinguish. The edited color scheme helps viewers more quickly identify high-volume trip zones and understand the flow of traffic across the city."
   ]
  },
  {
   "cell_type": "markdown",
   "id": "10ddada2-e1a0-4c0b-b72f-bb505d0ca1ca",
   "metadata": {},
   "source": [
    "After applying a filter to the map to focus on the most common trips in New York City, it quickly became clear that Manhattan stood out as the busiest zone. The density of trips in and around Manhattan was significantly higher compared to other boroughs. This isn’t too surprising, considering Manhattan is the city’s economic and cultural hub, home to major business districts like Midtown and the Financial District, world-famous landmarks, and a high population density during work hours.\n",
    "\n",
    "Additional research supports this: Manhattan attracts millions of commuters and tourists daily, making it a hotspot for taxi and ride-sharing activity. Areas like Times Square, Central Park, and Grand Central Terminal naturally generate heavy traffic due to their popularity and central location. The combination of tourism, business travel, and limited parking availability likely contributes to the high volume of trips in this area."
   ]
  },
  {
   "cell_type": "code",
   "execution_count": 77,
   "id": "4289b1a6",
   "metadata": {},
   "outputs": [],
   "source": [
    "config = m.config"
   ]
  },
  {
   "cell_type": "code",
   "execution_count": 78,
   "id": "72ec8be3",
   "metadata": {},
   "outputs": [
    {
     "data": {
      "text/plain": [
       "{'version': 'v1',\n",
       " 'config': {'visState': {'filters': [{'dataId': ['data_1'],\n",
       "     'id': 'xaz033yfj',\n",
       "     'name': ['trips'],\n",
       "     'type': 'range',\n",
       "     'value': [1, 11],\n",
       "     'plotType': 'histogram',\n",
       "     'animationWindow': 'free',\n",
       "     'yAxis': None,\n",
       "     'view': 'side',\n",
       "     'speed': 1,\n",
       "     'enabled': True}],\n",
       "   'layers': [{'id': 'u2zyath',\n",
       "     'type': 'point',\n",
       "     'config': {'dataId': 'data_1',\n",
       "      'label': 'start',\n",
       "      'color': [134, 10, 90],\n",
       "      'highlightColor': [252, 242, 26, 255],\n",
       "      'columns': {'lat': 'start_lat', 'lng': 'start_lon'},\n",
       "      'isVisible': True,\n",
       "      'visConfig': {'radius': 10,\n",
       "       'fixedRadius': False,\n",
       "       'opacity': 0.8,\n",
       "       'outline': False,\n",
       "       'thickness': 2,\n",
       "       'strokeColor': None,\n",
       "       'colorRange': {'name': 'Global Warming',\n",
       "        'type': 'sequential',\n",
       "        'category': 'Uber',\n",
       "        'colors': ['#5A1846',\n",
       "         '#900C3F',\n",
       "         '#C70039',\n",
       "         '#E3611C',\n",
       "         '#F1920E',\n",
       "         '#FFC300']},\n",
       "       'strokeColorRange': {'name': 'Global Warming',\n",
       "        'type': 'sequential',\n",
       "        'category': 'Uber',\n",
       "        'colors': ['#5A1846',\n",
       "         '#900C3F',\n",
       "         '#C70039',\n",
       "         '#E3611C',\n",
       "         '#F1920E',\n",
       "         '#FFC300']},\n",
       "       'radiusRange': [0, 50],\n",
       "       'filled': True},\n",
       "      'hidden': False,\n",
       "      'textLabel': []},\n",
       "     'visualChannels': {'colorField': None,\n",
       "      'colorScale': 'quantile',\n",
       "      'strokeColorField': None,\n",
       "      'strokeColorScale': 'quantile',\n",
       "      'sizeField': None,\n",
       "      'sizeScale': 'linear'}},\n",
       "    {'id': 'fs1pds',\n",
       "     'type': 'point',\n",
       "     'config': {'dataId': 'data_1',\n",
       "      'label': 'end',\n",
       "      'color': [254, 179, 26],\n",
       "      'highlightColor': [252, 242, 26, 255],\n",
       "      'columns': {'lat': 'end_lat', 'lng': 'end_lon'},\n",
       "      'isVisible': True,\n",
       "      'visConfig': {'radius': 10,\n",
       "       'fixedRadius': False,\n",
       "       'opacity': 0.8,\n",
       "       'outline': False,\n",
       "       'thickness': 2,\n",
       "       'strokeColor': None,\n",
       "       'colorRange': {'name': 'Global Warming',\n",
       "        'type': 'sequential',\n",
       "        'category': 'Uber',\n",
       "        'colors': ['#5A1846',\n",
       "         '#900C3F',\n",
       "         '#C70039',\n",
       "         '#E3611C',\n",
       "         '#F1920E',\n",
       "         '#FFC300']},\n",
       "       'strokeColorRange': {'name': 'Global Warming',\n",
       "        'type': 'sequential',\n",
       "        'category': 'Uber',\n",
       "        'colors': ['#5A1846',\n",
       "         '#900C3F',\n",
       "         '#C70039',\n",
       "         '#E3611C',\n",
       "         '#F1920E',\n",
       "         '#FFC300']},\n",
       "       'radiusRange': [0, 50],\n",
       "       'filled': True},\n",
       "      'hidden': False,\n",
       "      'textLabel': [{'field': None,\n",
       "        'color': [255, 255, 255],\n",
       "        'size': 18,\n",
       "        'offset': [0, 0],\n",
       "        'anchor': 'start',\n",
       "        'alignment': 'center',\n",
       "        'outlineWidth': 0,\n",
       "        'outlineColor': [255, 0, 0, 255],\n",
       "        'background': False,\n",
       "        'backgroundColor': [0, 0, 200, 255]}]},\n",
       "     'visualChannels': {'colorField': None,\n",
       "      'colorScale': 'quantile',\n",
       "      'strokeColorField': None,\n",
       "      'strokeColorScale': 'quantile',\n",
       "      'sizeField': None,\n",
       "      'sizeScale': 'linear'}},\n",
       "    {'id': 'c17c9of',\n",
       "     'type': 'arc',\n",
       "     'config': {'dataId': 'data_1',\n",
       "      'label': 'start -> end arc',\n",
       "      'color': [201, 0, 0],\n",
       "      'highlightColor': [252, 242, 26, 255],\n",
       "      'columns': {'lat0': 'start_lat',\n",
       "       'lng0': 'start_lon',\n",
       "       'lat1': 'end_lat',\n",
       "       'lng1': 'end_lon'},\n",
       "      'isVisible': True,\n",
       "      'visConfig': {'opacity': 0.8,\n",
       "       'thickness': 4.7,\n",
       "       'colorRange': {'name': 'Global Warming',\n",
       "        'type': 'sequential',\n",
       "        'category': 'Uber',\n",
       "        'colors': ['#5A1846',\n",
       "         '#900C3F',\n",
       "         '#C70039',\n",
       "         '#E3611C',\n",
       "         '#F1920E',\n",
       "         '#FFC300']},\n",
       "       'sizeRange': [0, 10],\n",
       "       'targetColor': [255, 250, 102]},\n",
       "      'hidden': False,\n",
       "      'textLabel': [{'field': None,\n",
       "        'color': [255, 255, 255],\n",
       "        'size': 18,\n",
       "        'offset': [0, 0],\n",
       "        'anchor': 'start',\n",
       "        'alignment': 'center',\n",
       "        'outlineWidth': 0,\n",
       "        'outlineColor': [255, 0, 0, 255],\n",
       "        'background': False,\n",
       "        'backgroundColor': [0, 0, 200, 255]}]},\n",
       "     'visualChannels': {'colorField': None,\n",
       "      'colorScale': 'quantile',\n",
       "      'sizeField': None,\n",
       "      'sizeScale': 'linear'}},\n",
       "    {'id': 'sdhftrn',\n",
       "     'type': 'line',\n",
       "     'config': {'dataId': 'data_1',\n",
       "      'label': 'start -> end line',\n",
       "      'color': [221, 178, 124],\n",
       "      'highlightColor': [252, 242, 26, 255],\n",
       "      'columns': {'lat0': 'start_lat',\n",
       "       'lng0': 'start_lon',\n",
       "       'lat1': 'end_lat',\n",
       "       'lng1': 'end_lon'},\n",
       "      'isVisible': False,\n",
       "      'visConfig': {'opacity': 0.8,\n",
       "       'thickness': 2,\n",
       "       'colorRange': {'name': 'Global Warming',\n",
       "        'type': 'sequential',\n",
       "        'category': 'Uber',\n",
       "        'colors': ['#5A1846',\n",
       "         '#900C3F',\n",
       "         '#C70039',\n",
       "         '#E3611C',\n",
       "         '#F1920E',\n",
       "         '#FFC300']},\n",
       "       'sizeRange': [0, 10],\n",
       "       'targetColor': None,\n",
       "       'elevationScale': 1},\n",
       "      'hidden': False,\n",
       "      'textLabel': [{'field': None,\n",
       "        'color': [255, 255, 255],\n",
       "        'size': 18,\n",
       "        'offset': [0, 0],\n",
       "        'anchor': 'start',\n",
       "        'alignment': 'center',\n",
       "        'outlineWidth': 0,\n",
       "        'outlineColor': [255, 0, 0, 255],\n",
       "        'background': False,\n",
       "        'backgroundColor': [0, 0, 200, 255]}]},\n",
       "     'visualChannels': {'colorField': None,\n",
       "      'colorScale': 'quantile',\n",
       "      'sizeField': None,\n",
       "      'sizeScale': 'linear'}}],\n",
       "   'effects': [],\n",
       "   'interactionConfig': {'tooltip': {'fieldsToShow': {'data_1': [{'name': 'end_station_name',\n",
       "        'format': None},\n",
       "       {'name': 'start_station_name', 'format': None},\n",
       "       {'name': 'trips', 'format': None}]},\n",
       "     'compareMode': False,\n",
       "     'compareType': 'absolute',\n",
       "     'enabled': True},\n",
       "    'brush': {'size': 0.5, 'enabled': False},\n",
       "    'geocoder': {'enabled': False},\n",
       "    'coordinate': {'enabled': False}},\n",
       "   'layerBlending': 'normal',\n",
       "   'overlayBlending': 'normal',\n",
       "   'splitMaps': [],\n",
       "   'animationConfig': {'currentTime': None, 'speed': 1},\n",
       "   'editor': {'features': [], 'visible': True}},\n",
       "  'mapState': {'bearing': 0,\n",
       "   'dragRotate': False,\n",
       "   'latitude': 40.73445902784495,\n",
       "   'longitude': -74.07145966884849,\n",
       "   'pitch': 0,\n",
       "   'zoom': 10,\n",
       "   'isSplit': False,\n",
       "   'isViewportSynced': True,\n",
       "   'isZoomLocked': False,\n",
       "   'splitMapViewports': []},\n",
       "  'mapStyle': {'styleType': 'dark-matter',\n",
       "   'topLayerGroups': {},\n",
       "   'visibleLayerGroups': {'label': True,\n",
       "    'road': True,\n",
       "    'border': False,\n",
       "    'building': True,\n",
       "    'water': True,\n",
       "    'land': True,\n",
       "    '3d building': False},\n",
       "   'threeDBuildingColor': [15.035172933000911,\n",
       "    15.035172933000911,\n",
       "    15.035172933000911],\n",
       "   'backgroundColor': [0, 0, 0],\n",
       "   'mapStyles': {}}}}"
      ]
     },
     "execution_count": 78,
     "metadata": {},
     "output_type": "execute_result"
    }
   ],
   "source": [
    "config"
   ]
  },
  {
   "cell_type": "code",
   "execution_count": 79,
   "id": "994ab469",
   "metadata": {},
   "outputs": [],
   "source": [
    "import json\n",
    "with open(\"config.json\", \"w\") as outfile:\n",
    "    json.dump(config, outfile)"
   ]
  },
  {
   "cell_type": "code",
   "execution_count": 80,
   "id": "4dad7d4a",
   "metadata": {},
   "outputs": [
    {
     "name": "stdout",
     "output_type": "stream",
     "text": [
      "Map saved to New York Bike Trips Aggregated.html!\n"
     ]
    }
   ],
   "source": [
    "m.save_to_html(file_name = 'New York Bike Trips Aggregated.html', read_only = False, config = config)"
   ]
  },
  {
   "cell_type": "code",
   "execution_count": 76,
   "id": "8ce57c22",
   "metadata": {},
   "outputs": [],
   "source": [
    "df_half.to_csv('new_york_data_1.csv')"
   ]
  },
  {
   "cell_type": "code",
   "execution_count": null,
   "id": "d62db002",
   "metadata": {},
   "outputs": [],
   "source": []
  }
 ],
 "metadata": {
  "kernelspec": {
   "display_name": "Python (new_citi_bike_env)",
   "language": "python",
   "name": "new_citi_bike_env"
  },
  "language_info": {
   "codemirror_mode": {
    "name": "ipython",
    "version": 3
   },
   "file_extension": ".py",
   "mimetype": "text/x-python",
   "name": "python",
   "nbconvert_exporter": "python",
   "pygments_lexer": "ipython3",
   "version": "3.9.21"
  }
 },
 "nbformat": 4,
 "nbformat_minor": 5
}
